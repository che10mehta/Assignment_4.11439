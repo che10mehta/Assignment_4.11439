{
 "cells": [
  {
   "cell_type": "markdown",
   "metadata": {},
   "source": [
    "# Task 1.1"
   ]
  },
  {
   "cell_type": "code",
   "execution_count": 10,
   "metadata": {},
   "outputs": [
    {
     "data": {
      "text/plain": [
       "array([  5.        ,   4.66666667,   5.66666667,   6.66666667,\n",
       "         9.66666667,  28.66666667,  49.33333333,  72.66666667,\n",
       "        84.        ,  93.33333333, 116.33333333])"
      ]
     },
     "execution_count": 10,
     "metadata": {},
     "output_type": "execute_result"
    }
   ],
   "source": [
    "import numpy as np\n",
    "\n",
    "def mov_avg(a,k):\n",
    "    ret = np.cumsum(a,dtype=float)\n",
    "    ret[k:] = ret[k:] - ret[:-k]\n",
    "    return ret[k - 1:] / k\n",
    "\n",
    "array = [3, 5, 7, 2, 8, 10, 11, 65, 72, 81, 99, 100, 150]\n",
    "\n",
    "mov_avg(array,3)"
   ]
  },
  {
   "cell_type": "markdown",
   "metadata": {},
   "source": [
    "# Task 2.1"
   ]
  },
  {
   "cell_type": "code",
   "execution_count": 11,
   "metadata": {},
   "outputs": [
    {
     "data": {
      "text/html": [
       "<div>\n",
       "<style scoped>\n",
       "    .dataframe tbody tr th:only-of-type {\n",
       "        vertical-align: middle;\n",
       "    }\n",
       "\n",
       "    .dataframe tbody tr th {\n",
       "        vertical-align: top;\n",
       "    }\n",
       "\n",
       "    .dataframe thead th {\n",
       "        text-align: right;\n",
       "    }\n",
       "</style>\n",
       "<table border=\"1\" class=\"dataframe\">\n",
       "  <thead>\n",
       "    <tr style=\"text-align: right;\">\n",
       "      <th></th>\n",
       "      <th>X</th>\n",
       "      <th>Y</th>\n",
       "    </tr>\n",
       "  </thead>\n",
       "  <tbody>\n",
       "    <tr>\n",
       "      <th>0</th>\n",
       "      <td>7</td>\n",
       "      <td>1</td>\n",
       "    </tr>\n",
       "    <tr>\n",
       "      <th>1</th>\n",
       "      <td>2</td>\n",
       "      <td>2</td>\n",
       "    </tr>\n",
       "    <tr>\n",
       "      <th>2</th>\n",
       "      <td>0</td>\n",
       "      <td>0</td>\n",
       "    </tr>\n",
       "    <tr>\n",
       "      <th>3</th>\n",
       "      <td>3</td>\n",
       "      <td>1</td>\n",
       "    </tr>\n",
       "    <tr>\n",
       "      <th>4</th>\n",
       "      <td>4</td>\n",
       "      <td>2</td>\n",
       "    </tr>\n",
       "    <tr>\n",
       "      <th>5</th>\n",
       "      <td>2</td>\n",
       "      <td>3</td>\n",
       "    </tr>\n",
       "    <tr>\n",
       "      <th>6</th>\n",
       "      <td>5</td>\n",
       "      <td>4</td>\n",
       "    </tr>\n",
       "    <tr>\n",
       "      <th>7</th>\n",
       "      <td>0</td>\n",
       "      <td>0</td>\n",
       "    </tr>\n",
       "    <tr>\n",
       "      <th>8</th>\n",
       "      <td>3</td>\n",
       "      <td>1</td>\n",
       "    </tr>\n",
       "    <tr>\n",
       "      <th>9</th>\n",
       "      <td>4</td>\n",
       "      <td>2</td>\n",
       "    </tr>\n",
       "  </tbody>\n",
       "</table>\n",
       "</div>"
      ],
      "text/plain": [
       "   X  Y\n",
       "0  7  1\n",
       "1  2  2\n",
       "2  0  0\n",
       "3  3  1\n",
       "4  4  2\n",
       "5  2  3\n",
       "6  5  4\n",
       "7  0  0\n",
       "8  3  1\n",
       "9  4  2"
      ]
     },
     "execution_count": 11,
     "metadata": {},
     "output_type": "execute_result"
    }
   ],
   "source": [
    "import pandas as pd\n",
    "\n",
    "df = pd.DataFrame({'X': [7, 2, 0, 3, 4, 2, 5, 0, 3, 4]})\n",
    "\n",
    "df['Y'] =(df.X.groupby(df.X.eq(0).cumsum().mask(df.X.eq(0))).cumcount() + 1).mask(df.X.eq(0), 0)\n",
    "\n",
    "df"
   ]
  },
  {
   "cell_type": "markdown",
   "metadata": {},
   "source": [
    "# Task 2.2"
   ]
  },
  {
   "cell_type": "code",
   "execution_count": 17,
   "metadata": {},
   "outputs": [
    {
     "data": {
      "text/plain": [
       "2015-01-01    0.567858\n",
       "2015-01-02    0.099688\n",
       "2015-01-05    0.876435\n",
       "2015-01-06    0.768402\n",
       "2015-01-07    0.896722\n",
       "2015-01-08    0.734754\n",
       "2015-01-09    0.687814\n",
       "2015-01-12    0.145620\n",
       "2015-01-13    0.759515\n",
       "2015-01-14    0.524827\n",
       "2015-01-15    0.748541\n",
       "2015-01-16    0.781669\n",
       "2015-01-19    0.948735\n",
       "2015-01-20    0.808102\n",
       "2015-01-21    0.193069\n",
       "2015-01-22    0.565934\n",
       "2015-01-23    0.899983\n",
       "2015-01-26    0.176407\n",
       "2015-01-27    0.119966\n",
       "2015-01-28    0.362143\n",
       "2015-01-29    0.754533\n",
       "2015-01-30    0.943803\n",
       "2015-02-02    0.358260\n",
       "2015-02-03    0.049727\n",
       "2015-02-04    0.539738\n",
       "2015-02-05    0.390344\n",
       "2015-02-06    0.181978\n",
       "2015-02-09    0.848984\n",
       "2015-02-10    0.096623\n",
       "2015-02-11    0.898719\n",
       "                ...   \n",
       "2015-11-20    0.591165\n",
       "2015-11-23    0.232781\n",
       "2015-11-24    0.526388\n",
       "2015-11-25    0.023391\n",
       "2015-11-26    0.285927\n",
       "2015-11-27    0.652766\n",
       "2015-11-30    0.357868\n",
       "2015-12-01    0.658366\n",
       "2015-12-02    0.796615\n",
       "2015-12-03    0.767536\n",
       "2015-12-04    0.151503\n",
       "2015-12-07    0.342908\n",
       "2015-12-08    0.359253\n",
       "2015-12-09    0.678607\n",
       "2015-12-10    0.304121\n",
       "2015-12-11    0.492597\n",
       "2015-12-14    0.346674\n",
       "2015-12-15    0.967284\n",
       "2015-12-16    0.701725\n",
       "2015-12-17    0.057088\n",
       "2015-12-18    0.884467\n",
       "2015-12-21    0.518429\n",
       "2015-12-22    0.297609\n",
       "2015-12-23    0.198587\n",
       "2015-12-24    0.010464\n",
       "2015-12-25    0.318864\n",
       "2015-12-28    0.831404\n",
       "2015-12-29    0.525439\n",
       "2015-12-30    0.113339\n",
       "2015-12-31    0.004646\n",
       "Freq: B, Length: 261, dtype: float64"
      ]
     },
     "execution_count": 17,
     "metadata": {},
     "output_type": "execute_result"
    }
   ],
   "source": [
    "import numpy as np\n",
    "import pandas as pd\n",
    "dti= pd.date_range(start='2015-01-01', end='2015-12-31', freq='B')\n",
    "s = pd.Series(np.random.rand(len(dti)), index=dti)\n",
    "s"
   ]
  },
  {
   "cell_type": "markdown",
   "metadata": {},
   "source": [
    "# Task 2.3"
   ]
  },
  {
   "cell_type": "code",
   "execution_count": 18,
   "metadata": {},
   "outputs": [
    {
     "data": {
      "text/plain": [
       "22.466651460435223"
      ]
     },
     "execution_count": 18,
     "metadata": {},
     "output_type": "execute_result"
    }
   ],
   "source": [
    "s[dti.weekday == 2].sum()"
   ]
  },
  {
   "cell_type": "markdown",
   "metadata": {},
   "source": [
    "# Task 2.4"
   ]
  },
  {
   "cell_type": "code",
   "execution_count": 21,
   "metadata": {},
   "outputs": [
    {
     "data": {
      "text/plain": [
       "2015-01-31    0.607478\n",
       "2015-02-28    0.459681\n",
       "2015-03-31    0.375546\n",
       "2015-04-30    0.564668\n",
       "2015-05-31    0.507139\n",
       "2015-06-30    0.604304\n",
       "2015-07-31    0.486870\n",
       "2015-08-31    0.477368\n",
       "2015-09-30    0.503799\n",
       "2015-10-31    0.467312\n",
       "2015-11-30    0.550906\n",
       "2015-12-31    0.449023\n",
       "Freq: M, dtype: float64"
      ]
     },
     "execution_count": 21,
     "metadata": {},
     "output_type": "execute_result"
    }
   ],
   "source": [
    "s.resample('M').mean()"
   ]
  },
  {
   "cell_type": "markdown",
   "metadata": {},
   "source": [
    "# Task 2.5"
   ]
  },
  {
   "cell_type": "code",
   "execution_count": 20,
   "metadata": {},
   "outputs": [
    {
     "name": "stderr",
     "output_type": "stream",
     "text": [
      "/anaconda3/lib/python3.6/site-packages/ipykernel_launcher.py:1: FutureWarning: pd.TimeGrouper is deprecated and will be removed; Please use pd.Grouper(freq=...)\n",
      "  \"\"\"Entry point for launching an IPython kernel.\n"
     ]
    },
    {
     "data": {
      "text/plain": [
       "2015-01-31   2015-01-19\n",
       "2015-05-31   2015-04-21\n",
       "2015-09-30   2015-06-01\n",
       "2016-01-31   2015-10-16\n",
       "dtype: datetime64[ns]"
      ]
     },
     "execution_count": 20,
     "metadata": {},
     "output_type": "execute_result"
    }
   ],
   "source": [
    "s.groupby(pd.TimeGrouper('4M')).idxmax()"
   ]
  },
  {
   "cell_type": "code",
   "execution_count": null,
   "metadata": {},
   "outputs": [],
   "source": []
  }
 ],
 "metadata": {
  "kernelspec": {
   "display_name": "Python 3",
   "language": "python",
   "name": "python3"
  },
  "language_info": {
   "codemirror_mode": {
    "name": "ipython",
    "version": 3
   },
   "file_extension": ".py",
   "mimetype": "text/x-python",
   "name": "python",
   "nbconvert_exporter": "python",
   "pygments_lexer": "ipython3",
   "version": "3.6.4"
  }
 },
 "nbformat": 4,
 "nbformat_minor": 2
}
